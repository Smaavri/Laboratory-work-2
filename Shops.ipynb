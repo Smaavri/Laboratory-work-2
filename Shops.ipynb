{
 "cells": [
  {
   "cell_type": "code",
   "execution_count": null,
   "id": "b4963e2b-a8de-467c-88a1-142568bba4cc",
   "metadata": {
    "tags": []
   },
   "outputs": [
    {
     "name": "stdout",
     "output_type": "stream",
     "text": [
      "Пожалуйста по одному введите наименования ваших товаров:\n"
     ]
    },
    {
     "name": "stdin",
     "output_type": "stream",
     "text": [
      " 1\n",
      " 2\n",
      " 3\n"
     ]
    },
    {
     "name": "stdout",
     "output_type": "stream",
     "text": [
      "Пожалуйста по одному введите названия магазинов:\n"
     ]
    }
   ],
   "source": [
    "print (\"Пожалуйста по одному введите наименования ваших товаров:\")\n",
    "goods_list = [input(), input(), input()]\n",
    "print (\"Пожалуйста по одному введите названия магазинов:\")\n",
    "shops_list = [input(), input(), input()]"
   ]
  },
  {
   "cell_type": "code",
   "execution_count": null,
   "id": "b4acad09-e000-49c0-9462-c78360605651",
   "metadata": {
    "tags": []
   },
   "outputs": [],
   "source": [
    "print (\"Пожалуйста по очереди введите цены на товары в первом магазине:\")\n",
    "prices_1 = [int(input()), int(input()), int(input())]\n",
    "\n",
    "print (\"Пожалуйста по очереди введите цены на товары во втором магазине:\")\n",
    "prices_2 = [int(input()), int(input()), int(input())]\n",
    "\n",
    "print (\"Пожалуйста по очереди введите цены на товары в третьем магазине:\")\n",
    "prices_3 = [int(input()), int(input()), int(input())]\n"
   ]
  },
  {
   "cell_type": "code",
   "execution_count": null,
   "id": "e48aed61-595b-4745-8f7a-fe27a1197d82",
   "metadata": {},
   "outputs": [],
   "source": [
    "print (f\"Общая стоимость в магазине {shops_list[0]} равна {sum(prices_1)}\")\n",
    "print (f\"Общая стоимость в магазине {shops_list[1]} равна {sum(prices_2)}\")\n",
    "print (f\"Общая стоимость в магазине {shops_list[2]} равна {sum(prices_3)}\")"
   ]
  },
  {
   "cell_type": "code",
   "execution_count": null,
   "id": "7dd1c79a-3a72-45f7-82e0-2e8a5a7d279e",
   "metadata": {},
   "outputs": [],
   "source": [
    "if sum(prices_1) < sum(prices_2) and sum(prices_1) < sum(prices_3):\n",
    "    print (f\"В магазине {shops_list[0]} вы сэкономите {sum(prices_2) - sum(prices_1)} рублей по сравнению с магазином {shops_list[1]}. \")\n",
    "    print (f\"А также в магазине {shops_list[0]} вы сэкономите {sum(prices_3) - sum(prices_1)} рублей по сравнению с магазином {shops_list[2]}. \")"
   ]
  },
  {
   "cell_type": "code",
   "execution_count": null,
   "id": "f5747a72-5f84-4753-bb31-dfb607cc0aa3",
   "metadata": {
    "tags": []
   },
   "outputs": [],
   "source": [
    "if sum(prices_2) < sum(prices_1) and sum(prices_2) < sum(prices_3):\n",
    "    print (f\"В магазине {shops_list[1]} вы сэкономите {sum(prices_1) - sum(prices_2)} рублей по сравнению с магазином {shops_list[0]}. \")\n",
    "    print (f\"А также в магазине {shops_list[1]} вы сэкономите {sum(prices_3) - sum(prices_2)} рублей по сравнению с магазином {shops_list[2]}. \")"
   ]
  },
  {
   "cell_type": "code",
   "execution_count": null,
   "id": "005ce450-bb54-41fb-96d0-49675cb7cc4a",
   "metadata": {
    "tags": []
   },
   "outputs": [],
   "source": [
    "if sum(prices_3) < sum(prices_1) and sum(prices_3) < sum(prices_2):\n",
    "    print (f\"В магазине {shops_list[2]} вы сэкономите {sum(prices_1) - sum(prices_3)} рублей по сравнению с магазином {shops_list[0]}. \")\n",
    "    print (f\"А также в магазине {shops_list[2]} вы сэкономите {sum(prices_2) - sum(prices_3)} рублей по сравнению с магазином {shops_list[1]}. \")"
   ]
  }
 ],
 "metadata": {
  "kernelspec": {
   "display_name": "Python 3",
   "language": "python",
   "name": "python3"
  },
  "language_info": {
   "codemirror_mode": {
    "name": "ipython",
    "version": 3
   },
   "file_extension": ".py",
   "mimetype": "text/x-python",
   "name": "python",
   "nbconvert_exporter": "python",
   "pygments_lexer": "ipython3",
   "version": "3.7.2"
  }
 },
 "nbformat": 4,
 "nbformat_minor": 5
}
